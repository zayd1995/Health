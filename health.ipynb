{
 "cells": [
  {
   "cell_type": "code",
   "execution_count": 47,
   "metadata": {},
   "outputs": [],
   "source": [
    "import pandas as pd\n",
    "import numpy as np\n",
    "import matplotlib.pyplot as plt\n",
    "import seaborn as sns  \n",
    "import scipy "
   ]
  },
  {
   "cell_type": "code",
   "execution_count": 2,
   "metadata": {},
   "outputs": [],
   "source": [
    "data = pd.read_csv(r'C:\\Users\\NET\\Desktop\\health.csv')"
   ]
  },
  {
   "cell_type": "code",
   "execution_count": 3,
   "metadata": {},
   "outputs": [
    {
     "data": {
      "text/html": [
       "<div>\n",
       "<style scoped>\n",
       "    .dataframe tbody tr th:only-of-type {\n",
       "        vertical-align: middle;\n",
       "    }\n",
       "\n",
       "    .dataframe tbody tr th {\n",
       "        vertical-align: top;\n",
       "    }\n",
       "\n",
       "    .dataframe thead th {\n",
       "        text-align: right;\n",
       "    }\n",
       "</style>\n",
       "<table border=\"1\" class=\"dataframe\">\n",
       "  <thead>\n",
       "    <tr style=\"text-align: right;\">\n",
       "      <th></th>\n",
       "      <th>Name</th>\n",
       "      <th>Age</th>\n",
       "      <th>Gender</th>\n",
       "      <th>Blood Type</th>\n",
       "      <th>Medical Condition</th>\n",
       "      <th>Date of Admission</th>\n",
       "      <th>Doctor</th>\n",
       "      <th>Hospital</th>\n",
       "      <th>Insurance Provider</th>\n",
       "      <th>Billing Amount</th>\n",
       "      <th>Room Number</th>\n",
       "      <th>Admission Type</th>\n",
       "      <th>Discharge Date</th>\n",
       "      <th>Medication</th>\n",
       "      <th>Test Results</th>\n",
       "    </tr>\n",
       "  </thead>\n",
       "  <tbody>\n",
       "    <tr>\n",
       "      <th>0</th>\n",
       "      <td>Bobby JacksOn</td>\n",
       "      <td>30</td>\n",
       "      <td>Male</td>\n",
       "      <td>B-</td>\n",
       "      <td>Cancer</td>\n",
       "      <td>2024-01-31</td>\n",
       "      <td>Matthew Smith</td>\n",
       "      <td>Sons and Miller</td>\n",
       "      <td>Blue Cross</td>\n",
       "      <td>18856.28131</td>\n",
       "      <td>328</td>\n",
       "      <td>Urgent</td>\n",
       "      <td>2024-02-02</td>\n",
       "      <td>Paracetamol</td>\n",
       "      <td>Normal</td>\n",
       "    </tr>\n",
       "    <tr>\n",
       "      <th>1</th>\n",
       "      <td>LesLie TErRy</td>\n",
       "      <td>62</td>\n",
       "      <td>Male</td>\n",
       "      <td>A+</td>\n",
       "      <td>Obesity</td>\n",
       "      <td>2019-08-20</td>\n",
       "      <td>Samantha Davies</td>\n",
       "      <td>Kim Inc</td>\n",
       "      <td>Medicare</td>\n",
       "      <td>33643.32729</td>\n",
       "      <td>265</td>\n",
       "      <td>Emergency</td>\n",
       "      <td>2019-08-26</td>\n",
       "      <td>Ibuprofen</td>\n",
       "      <td>Inconclusive</td>\n",
       "    </tr>\n",
       "  </tbody>\n",
       "</table>\n",
       "</div>"
      ],
      "text/plain": [
       "            Name  Age Gender Blood Type Medical Condition Date of Admission  \\\n",
       "0  Bobby JacksOn   30   Male         B-            Cancer        2024-01-31   \n",
       "1   LesLie TErRy   62   Male         A+           Obesity        2019-08-20   \n",
       "\n",
       "            Doctor         Hospital Insurance Provider  Billing Amount  \\\n",
       "0    Matthew Smith  Sons and Miller         Blue Cross     18856.28131   \n",
       "1  Samantha Davies          Kim Inc           Medicare     33643.32729   \n",
       "\n",
       "   Room Number Admission Type Discharge Date   Medication  Test Results  \n",
       "0          328         Urgent     2024-02-02  Paracetamol        Normal  \n",
       "1          265      Emergency     2019-08-26    Ibuprofen  Inconclusive  "
      ]
     },
     "execution_count": 3,
     "metadata": {},
     "output_type": "execute_result"
    }
   ],
   "source": [
    "data.head(2)"
   ]
  },
  {
   "cell_type": "code",
   "execution_count": 4,
   "metadata": {},
   "outputs": [
    {
     "name": "stdout",
     "output_type": "stream",
     "text": [
      "<class 'pandas.core.frame.DataFrame'>\n",
      "RangeIndex: 55500 entries, 0 to 55499\n",
      "Data columns (total 15 columns):\n",
      " #   Column              Non-Null Count  Dtype  \n",
      "---  ------              --------------  -----  \n",
      " 0   Name                55500 non-null  object \n",
      " 1   Age                 55500 non-null  int64  \n",
      " 2   Gender              55500 non-null  object \n",
      " 3   Blood Type          55500 non-null  object \n",
      " 4   Medical Condition   55500 non-null  object \n",
      " 5   Date of Admission   55500 non-null  object \n",
      " 6   Doctor              55500 non-null  object \n",
      " 7   Hospital            55500 non-null  object \n",
      " 8   Insurance Provider  55500 non-null  object \n",
      " 9   Billing Amount      55500 non-null  float64\n",
      " 10  Room Number         55500 non-null  int64  \n",
      " 11  Admission Type      55500 non-null  object \n",
      " 12  Discharge Date      55500 non-null  object \n",
      " 13  Medication          55500 non-null  object \n",
      " 14  Test Results        55500 non-null  object \n",
      "dtypes: float64(1), int64(2), object(12)\n",
      "memory usage: 6.4+ MB\n"
     ]
    }
   ],
   "source": [
    "data.info()"
   ]
  },
  {
   "cell_type": "code",
   "execution_count": 5,
   "metadata": {},
   "outputs": [],
   "source": [
    "data['Date of Admission'] = pd.to_datetime(data['Date of Admission'])\n",
    "data['Discharge Date'] = pd.to_datetime(data['Discharge Date'])"
   ]
  },
  {
   "cell_type": "code",
   "execution_count": 6,
   "metadata": {},
   "outputs": [
    {
     "name": "stdout",
     "output_type": "stream",
     "text": [
      "<class 'pandas.core.frame.DataFrame'>\n",
      "RangeIndex: 55500 entries, 0 to 55499\n",
      "Data columns (total 15 columns):\n",
      " #   Column              Non-Null Count  Dtype         \n",
      "---  ------              --------------  -----         \n",
      " 0   Name                55500 non-null  object        \n",
      " 1   Age                 55500 non-null  int64         \n",
      " 2   Gender              55500 non-null  object        \n",
      " 3   Blood Type          55500 non-null  object        \n",
      " 4   Medical Condition   55500 non-null  object        \n",
      " 5   Date of Admission   55500 non-null  datetime64[ns]\n",
      " 6   Doctor              55500 non-null  object        \n",
      " 7   Hospital            55500 non-null  object        \n",
      " 8   Insurance Provider  55500 non-null  object        \n",
      " 9   Billing Amount      55500 non-null  float64       \n",
      " 10  Room Number         55500 non-null  int64         \n",
      " 11  Admission Type      55500 non-null  object        \n",
      " 12  Discharge Date      55500 non-null  datetime64[ns]\n",
      " 13  Medication          55500 non-null  object        \n",
      " 14  Test Results        55500 non-null  object        \n",
      "dtypes: datetime64[ns](2), float64(1), int64(2), object(10)\n",
      "memory usage: 6.4+ MB\n"
     ]
    }
   ],
   "source": [
    "data.info()"
   ]
  },
  {
   "cell_type": "code",
   "execution_count": 7,
   "metadata": {},
   "outputs": [],
   "source": [
    "data['Ages_category'] = data['Age'].apply(\n",
    "    lambda x: 'teenages' if x < 20\n",
    "              else 'twenties' if 20 <= x < 30\n",
    "              else 'thirties' if 30 <= x < 40\n",
    "              else 'forties' if 40 <= x < 50\n",
    "              else 'fifties' if 50 <= x < 60\n",
    "              else 'sixties' if 60 <= x < 70\n",
    "              else 'seventies' if 70 <= x < 80\n",
    "              else 'eighties'\n",
    ")"
   ]
  },
  {
   "cell_type": "code",
   "execution_count": 8,
   "metadata": {},
   "outputs": [
    {
     "data": {
      "text/html": [
       "<div>\n",
       "<style scoped>\n",
       "    .dataframe tbody tr th:only-of-type {\n",
       "        vertical-align: middle;\n",
       "    }\n",
       "\n",
       "    .dataframe tbody tr th {\n",
       "        vertical-align: top;\n",
       "    }\n",
       "\n",
       "    .dataframe thead th {\n",
       "        text-align: right;\n",
       "    }\n",
       "</style>\n",
       "<table border=\"1\" class=\"dataframe\">\n",
       "  <thead>\n",
       "    <tr style=\"text-align: right;\">\n",
       "      <th></th>\n",
       "      <th>Name</th>\n",
       "      <th>Age</th>\n",
       "      <th>Gender</th>\n",
       "      <th>Blood Type</th>\n",
       "      <th>Medical Condition</th>\n",
       "      <th>Date of Admission</th>\n",
       "      <th>Doctor</th>\n",
       "      <th>Hospital</th>\n",
       "      <th>Insurance Provider</th>\n",
       "      <th>Billing Amount</th>\n",
       "      <th>Room Number</th>\n",
       "      <th>Admission Type</th>\n",
       "      <th>Discharge Date</th>\n",
       "      <th>Medication</th>\n",
       "      <th>Test Results</th>\n",
       "      <th>Ages_category</th>\n",
       "    </tr>\n",
       "  </thead>\n",
       "  <tbody>\n",
       "    <tr>\n",
       "      <th>0</th>\n",
       "      <td>Bobby JacksOn</td>\n",
       "      <td>30</td>\n",
       "      <td>Male</td>\n",
       "      <td>B-</td>\n",
       "      <td>Cancer</td>\n",
       "      <td>2024-01-31</td>\n",
       "      <td>Matthew Smith</td>\n",
       "      <td>Sons and Miller</td>\n",
       "      <td>Blue Cross</td>\n",
       "      <td>18856.28131</td>\n",
       "      <td>328</td>\n",
       "      <td>Urgent</td>\n",
       "      <td>2024-02-02</td>\n",
       "      <td>Paracetamol</td>\n",
       "      <td>Normal</td>\n",
       "      <td>thirties</td>\n",
       "    </tr>\n",
       "    <tr>\n",
       "      <th>1</th>\n",
       "      <td>LesLie TErRy</td>\n",
       "      <td>62</td>\n",
       "      <td>Male</td>\n",
       "      <td>A+</td>\n",
       "      <td>Obesity</td>\n",
       "      <td>2019-08-20</td>\n",
       "      <td>Samantha Davies</td>\n",
       "      <td>Kim Inc</td>\n",
       "      <td>Medicare</td>\n",
       "      <td>33643.32729</td>\n",
       "      <td>265</td>\n",
       "      <td>Emergency</td>\n",
       "      <td>2019-08-26</td>\n",
       "      <td>Ibuprofen</td>\n",
       "      <td>Inconclusive</td>\n",
       "      <td>sixties</td>\n",
       "    </tr>\n",
       "  </tbody>\n",
       "</table>\n",
       "</div>"
      ],
      "text/plain": [
       "            Name  Age Gender Blood Type Medical Condition Date of Admission  \\\n",
       "0  Bobby JacksOn   30   Male         B-            Cancer        2024-01-31   \n",
       "1   LesLie TErRy   62   Male         A+           Obesity        2019-08-20   \n",
       "\n",
       "            Doctor         Hospital Insurance Provider  Billing Amount  \\\n",
       "0    Matthew Smith  Sons and Miller         Blue Cross     18856.28131   \n",
       "1  Samantha Davies          Kim Inc           Medicare     33643.32729   \n",
       "\n",
       "   Room Number Admission Type Discharge Date   Medication  Test Results  \\\n",
       "0          328         Urgent     2024-02-02  Paracetamol        Normal   \n",
       "1          265      Emergency     2019-08-26    Ibuprofen  Inconclusive   \n",
       "\n",
       "  Ages_category  \n",
       "0      thirties  \n",
       "1       sixties  "
      ]
     },
     "execution_count": 8,
     "metadata": {},
     "output_type": "execute_result"
    }
   ],
   "source": [
    "data.head(2)"
   ]
  },
  {
   "cell_type": "code",
   "execution_count": 9,
   "metadata": {},
   "outputs": [
    {
     "data": {
      "text/plain": [
       "Name                  0\n",
       "Age                   0\n",
       "Gender                0\n",
       "Blood Type            0\n",
       "Medical Condition     0\n",
       "Date of Admission     0\n",
       "Doctor                0\n",
       "Hospital              0\n",
       "Insurance Provider    0\n",
       "Billing Amount        0\n",
       "Room Number           0\n",
       "Admission Type        0\n",
       "Discharge Date        0\n",
       "Medication            0\n",
       "Test Results          0\n",
       "Ages_category         0\n",
       "dtype: int64"
      ]
     },
     "execution_count": 9,
     "metadata": {},
     "output_type": "execute_result"
    }
   ],
   "source": [
    "data.isna().sum()"
   ]
  },
  {
   "cell_type": "markdown",
   "metadata": {},
   "source": [
    "###analys "
   ]
  },
  {
   "cell_type": "code",
   "execution_count": 59,
   "metadata": {},
   "outputs": [
    {
     "data": {
      "text/plain": [
       "<function matplotlib.pyplot.show(close=None, block=None)>"
      ]
     },
     "execution_count": 59,
     "metadata": {},
     "output_type": "execute_result"
    },
    {
     "data": {
      "image/png": "[encoded data removed]",
      "text/plain": [
       "<Figure size 640x480 with 1 Axes>"
      ]
     },
     "metadata": {},
     "output_type": "display_data"
    }
   ],
   "source": [
    "sns.countplot(x='Blood Type', data= data )\n",
    "plt.show\n",
    " "
   ]
  },
  {
   "cell_type": "code",
   "execution_count": 60,
   "metadata": {},
   "outputs": [
    {
     "data": {
      "text/plain": [
       "<AxesSubplot: xlabel='Medication', ylabel='count'>"
      ]
     },
     "execution_count": 60,
     "metadata": {},
     "output_type": "execute_result"
    },
    {
     "data": {
      "image/png": "[encoded data removed]",
      "text/plain": [
       "<Figure size 640x480 with 1 Axes>"
      ]
     },
     "metadata": {},
     "output_type": "display_data"
    }
   ],
   "source": [
    "sns.countplot(data = data , x= 'Medication')"
   ]
  },
  {
   "cell_type": "code",
   "execution_count": 61,
   "metadata": {},
   "outputs": [
    {
     "data": {
      "text/plain": [
       "<AxesSubplot: xlabel='Admission Type', ylabel='count'>"
      ]
     },
     "execution_count": 61,
     "metadata": {},
     "output_type": "execute_result"
    },
    {
     "data": {
      "image/png": "[encoded data removed]",
      "text/plain": [
       "<Figure size 640x480 with 1 Axes>"
      ]
     },
     "metadata": {},
     "output_type": "display_data"
    }
   ],
   "source": [
    "sns.countplot(data= data , x= 'Admission Type')"
   ]
  },
  {
   "cell_type": "code",
   "execution_count": 24,
   "metadata": {},
   "outputs": [
    {
     "data": {
      "text/html": [
       "<div>\n",
       "<style scoped>\n",
       "    .dataframe tbody tr th:only-of-type {\n",
       "        vertical-align: middle;\n",
       "    }\n",
       "\n",
       "    .dataframe tbody tr th {\n",
       "        vertical-align: top;\n",
       "    }\n",
       "\n",
       "    .dataframe thead th {\n",
       "        text-align: right;\n",
       "    }\n",
       "</style>\n",
       "<table border=\"1\" class=\"dataframe\">\n",
       "  <thead>\n",
       "    <tr style=\"text-align: right;\">\n",
       "      <th></th>\n",
       "      <th>Name</th>\n",
       "      <th>Age</th>\n",
       "      <th>Gender</th>\n",
       "      <th>Blood Type</th>\n",
       "      <th>Medical Condition</th>\n",
       "      <th>Date of Admission</th>\n",
       "      <th>Doctor</th>\n",
       "      <th>Hospital</th>\n",
       "      <th>Insurance Provider</th>\n",
       "      <th>Billing Amount</th>\n",
       "      <th>Room Number</th>\n",
       "      <th>Admission Type</th>\n",
       "      <th>Discharge Date</th>\n",
       "      <th>Medication</th>\n",
       "      <th>Test Results</th>\n",
       "      <th>Ages_category</th>\n",
       "    </tr>\n",
       "  </thead>\n",
       "  <tbody>\n",
       "    <tr>\n",
       "      <th>0</th>\n",
       "      <td>Bobby JacksOn</td>\n",
       "      <td>30</td>\n",
       "      <td>Male</td>\n",
       "      <td>B-</td>\n",
       "      <td>Cancer</td>\n",
       "      <td>2024-01-31</td>\n",
       "      <td>Matthew Smith</td>\n",
       "      <td>Sons and Miller</td>\n",
       "      <td>Blue Cross</td>\n",
       "      <td>18856.28131</td>\n",
       "      <td>328</td>\n",
       "      <td>Urgent</td>\n",
       "      <td>2024-02-02</td>\n",
       "      <td>Paracetamol</td>\n",
       "      <td>Normal</td>\n",
       "      <td>thirties</td>\n",
       "    </tr>\n",
       "    <tr>\n",
       "      <th>1</th>\n",
       "      <td>LesLie TErRy</td>\n",
       "      <td>62</td>\n",
       "      <td>Male</td>\n",
       "      <td>A+</td>\n",
       "      <td>Obesity</td>\n",
       "      <td>2019-08-20</td>\n",
       "      <td>Samantha Davies</td>\n",
       "      <td>Kim Inc</td>\n",
       "      <td>Medicare</td>\n",
       "      <td>33643.32729</td>\n",
       "      <td>265</td>\n",
       "      <td>Emergency</td>\n",
       "      <td>2019-08-26</td>\n",
       "      <td>Ibuprofen</td>\n",
       "      <td>Inconclusive</td>\n",
       "      <td>sixties</td>\n",
       "    </tr>\n",
       "  </tbody>\n",
       "</table>\n",
       "</div>"
      ],
      "text/plain": [
       "            Name  Age Gender Blood Type Medical Condition Date of Admission  \\\n",
       "0  Bobby JacksOn   30   Male         B-            Cancer        2024-01-31   \n",
       "1   LesLie TErRy   62   Male         A+           Obesity        2019-08-20   \n",
       "\n",
       "            Doctor         Hospital Insurance Provider  Billing Amount  \\\n",
       "0    Matthew Smith  Sons and Miller         Blue Cross     18856.28131   \n",
       "1  Samantha Davies          Kim Inc           Medicare     33643.32729   \n",
       "\n",
       "   Room Number Admission Type Discharge Date   Medication  Test Results  \\\n",
       "0          328         Urgent     2024-02-02  Paracetamol        Normal   \n",
       "1          265      Emergency     2019-08-26    Ibuprofen  Inconclusive   \n",
       "\n",
       "  Ages_category  \n",
       "0      thirties  \n",
       "1       sixties  "
      ]
     },
     "execution_count": 24,
     "metadata": {},
     "output_type": "execute_result"
    }
   ],
   "source": [
    "data.head(2)"
   ]
  },
  {
   "cell_type": "code",
   "execution_count": 36,
   "metadata": {},
   "outputs": [
    {
     "data": {
      "text/plain": [
       "Index(['Name', 'Age', 'Gender', 'Blood Type', 'Medical Condition',\n",
       "       'Date of Admission', 'Doctor', 'Hospital', 'Insurance Provider',\n",
       "       'Billing Amount', 'Room Number', 'Admission Type', 'Discharge Date',\n",
       "       'Medication', 'Test Results', 'Ages_category'],\n",
       "      dtype='object')"
      ]
     },
     "execution_count": 36,
     "metadata": {},
     "output_type": "execute_result"
    }
   ],
   "source": [
    "data.columns"
   ]
  },
  {
   "cell_type": "code",
   "execution_count": 39,
   "metadata": {},
   "outputs": [
    {
     "name": "stdout",
     "output_type": "stream",
     "text": [
      "Columns Gender and Blood Type are correlated with p-value   0.0474\n",
      "Columns Gender and Medical Condition are not correlated with p-value   0.9447\n",
      "Columns Gender and Medication are not correlated with p-value   0.1770\n",
      "Columns Gender and Test Results are not correlated with p-value   0.3645\n",
      "Columns Gender and Ages_category are not correlated with p-value   0.5837\n",
      "Columns Blood Type and Medical Condition are not correlated with p-value   0.4768\n",
      "Columns Blood Type and Medication are not correlated with p-value   0.5191\n",
      "Columns Blood Type and Test Results are not correlated with p-value   0.9076\n",
      "Columns Blood Type and Ages_category are not correlated with p-value   0.4109\n",
      "Columns Medical Condition and Medication are not correlated with p-value   0.4209\n",
      "Columns Medical Condition and Test Results are not correlated with p-value   0.2098\n",
      "Columns Medical Condition and Ages_category are not correlated with p-value   0.7242\n",
      "Columns Medication and Test Results are not correlated with p-value   0.8805\n",
      "Columns Medication and Ages_category are not correlated with p-value   0.1817\n",
      "Columns Test Results and Ages_category are not correlated with p-value   0.4982\n"
     ]
    }
   ],
   "source": [
    "from scipy.stats import chi2_contingency\n",
    "\n",
    "def corr_chi2(data, columns):\n",
    "    for i in range(len(columns)):\n",
    "        for j in range(i + 1, len(columns)): \n",
    "            Crosstab = pd.crosstab(data[columns[i]], data[columns[j]])\n",
    "            stat, p, dof, expected = chi2_contingency(Crosstab)\n",
    "            alpha = 0.05\n",
    "            correlation = \"correlated\" if p < alpha else \"not correlated\"\n",
    "            print(f\"Columns {columns[i]} and {columns[j]} are {correlation} with p-value   {p:.4f}\")\n",
    "\n",
    "columns =['Gender', 'Blood Type', 'Medical Condition','Medication', 'Test Results', 'Ages_category']\n",
    "corr_chi2(data, columns)\n"
   ]
  },
  {
   "cell_type": "code",
   "execution_count": 69,
   "metadata": {},
   "outputs": [],
   "source": [
    "female = data.loc[data['Gender'] == 'Female']\n"
   ]
  },
  {
   "cell_type": "code",
   "execution_count": 65,
   "metadata": {},
   "outputs": [
    {
     "name": "stdout",
     "output_type": "stream",
     "text": [
      "Columns Blood Type and Medical Condition are not correlated with p-value   0.2262\n",
      "Columns Blood Type and Medication are not correlated with p-value   0.4436\n",
      "Columns Blood Type and Test Results are not correlated with p-value   0.5334\n",
      "Columns Blood Type and Ages_category are not correlated with p-value   0.6345\n",
      "Columns Medical Condition and Medication are correlated with p-value   0.0476\n",
      "Columns Medical Condition and Test Results are not correlated with p-value   0.6274\n",
      "Columns Medical Condition and Ages_category are not correlated with p-value   0.4049\n",
      "Columns Medication and Test Results are not correlated with p-value   0.5631\n",
      "Columns Medication and Ages_category are not correlated with p-value   0.6371\n",
      "Columns Test Results and Ages_category are not correlated with p-value   0.1444\n"
     ]
    }
   ],
   "source": [
    "def corr_chi2(female, columns):\n",
    "    for i in range(len(columns)):\n",
    "        for j in range(i + 1, len(columns)): \n",
    "            Crosstab = pd.crosstab(female[columns[i]], female[columns[j]])\n",
    "            stat, p, dof, expected = chi2_contingency(Crosstab)\n",
    "            alpha = 0.05\n",
    "            correlation = \"correlated\" if p < alpha else \"not correlated\"\n",
    "            print(f\"Columns {columns[i]} and {columns[j]} are {correlation} with p-value   {p:.4f}\")\n",
    "\n",
    "columns =['Blood Type', 'Medical Condition','Medication', 'Test Results', 'Ages_category']\n",
    "corr_chi2(female, columns)"
   ]
  },
  {
   "cell_type": "code",
   "execution_count": 67,
   "metadata": {},
   "outputs": [],
   "source": [
    "male = data[data['Gender'] == 'Male']\n"
   ]
  },
  {
   "cell_type": "code",
   "execution_count": 68,
   "metadata": {},
   "outputs": [
    {
     "name": "stdout",
     "output_type": "stream",
     "text": [
      "Columns Blood Type and Medical Condition are not correlated with p-value   0.5971\n",
      "Columns Blood Type and Medication are not correlated with p-value   0.9053\n",
      "Columns Blood Type and Test Results are not correlated with p-value   0.9624\n",
      "Columns Blood Type and Ages_category are not correlated with p-value   0.1749\n",
      "Columns Medical Condition and Medication are not correlated with p-value   0.5575\n",
      "Columns Medical Condition and Test Results are not correlated with p-value   0.6167\n",
      "Columns Medical Condition and Ages_category are not correlated with p-value   0.7329\n",
      "Columns Medication and Test Results are not correlated with p-value   0.7223\n",
      "Columns Medication and Ages_category are not correlated with p-value   0.2031\n",
      "Columns Test Results and Ages_category are not correlated with p-value   0.7392\n"
     ]
    }
   ],
   "source": [
    "def corr_chi2(male, columns):\n",
    "    for i in range(len(columns)):\n",
    "        for j in range(i + 1, len(columns)): \n",
    "            Crosstab = pd.crosstab(male[columns[i]], male[columns[j]])\n",
    "            stat, p, dof, expected = chi2_contingency(Crosstab)\n",
    "            alpha = 0.05\n",
    "            correlation = \"correlated\" if p < alpha else \"not correlated\"\n",
    "            print(f\"Columns {columns[i]} and {columns[j]} are {correlation} with p-value   {p:.4f}\")\n",
    "\n",
    "columns =['Blood Type', 'Medical Condition','Medication', 'Test Results', 'Ages_category']\n",
    "corr_chi2(male, columns)"
   ]
  },
  {
   "cell_type": "markdown",
   "metadata": {},
   "source": [
    "###conclusion about correlations\n"
   ]
  },
  {
   "cell_type": "markdown",
   "metadata": {},
   "source": [
    "according to the global test about the correlations between the variables we find that only the GENDER and BLOOD TYPE whom have correlation, when we separted the gender from each other the outcome changed.\n",
    "the data that contain only females info give us there's only one correlation represented by Medical Condition and Medication, in the otherwive for the male info the outcome show that there's no correlation at all."
   ]
  }
 ],
 "metadata": {
  "kernelspec": {
   "display_name": "Python 3",
   "language": "python",
   "name": "python3"
  },
  "language_info": {
   "codemirror_mode": {
    "name": "ipython",
    "version": 3
   },
   "file_extension": ".py",
   "mimetype": "text/x-python",
   "name": "python",
   "nbconvert_exporter": "python",
   "pygments_lexer": "ipython3",
   "version": "3.10.2"
  }
 },
 "nbformat": 4,
 "nbformat_minor": 2
}
